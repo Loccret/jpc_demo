{
 "cells": [
  {
   "cell_type": "markdown",
   "metadata": {},
   "source": [
    "# Hybrid PC on MNIST\n",
    "\n",
    "[![Open in Colab](https://colab.research.google.com/assets/colab-badge.svg)](https://github.com/thebuckleylab/jpc/blob/main/examples/hybrid_pc.ipynb)\n",
    "\n",
    "This notebook demonstrates how to train a hybrid predictive coding network that can both generate and classify MNIST digits."
   ]
  },
  {
   "cell_type": "code",
   "execution_count": 1,
   "metadata": {},
   "outputs": [],
   "source": [
    "%%capture\n",
    "!pip install torch==2.3.1\n",
    "!pip install torchvision==0.18.1\n",
    "!pip install matplotlib==3.0.0"
   ]
  },
  {
   "cell_type": "code",
   "execution_count": 2,
   "metadata": {},
   "outputs": [],
   "source": [
    "import jpc\n",
    "\n",
    "import jax\n",
    "import jax.numpy as jnp\n",
    "import equinox as eqx\n",
    "import equinox.nn as nn\n",
    "import optax\n",
    "\n",
    "import torch\n",
    "from torch.utils.data import DataLoader\n",
    "from torchvision import datasets, transforms\n",
    "\n",
    "import matplotlib.pyplot as plt"
   ]
  },
  {
   "cell_type": "markdown",
   "metadata": {
    "jp-MarkdownHeadingCollapsed": true
   },
   "source": [
    "## Hyperparameters\n",
    "\n",
    "We define some global parameters, including network architecture, learning rate, batch size etc."
   ]
  },
  {
   "cell_type": "code",
   "execution_count": 3,
   "metadata": {},
   "outputs": [],
   "source": [
    "SEED = 0\n",
    "\n",
    "LAYER_SIZES = [10, 300, 300, 784]\n",
    "ACT_FN = \"relu\"\n",
    "\n",
    "LEARNING_RATE = 1e-3\n",
    "BATCH_SIZE = 64\n",
    "TEST_EVERY = 100\n",
    "N_TRAIN_ITERS = 300"
   ]
  },
  {
   "cell_type": "markdown",
   "metadata": {
    "jp-MarkdownHeadingCollapsed": true
   },
   "source": [
    "## Dataset\n",
    "\n",
    "Some utils to fetch MNIST."
   ]
  },
  {
   "cell_type": "code",
   "execution_count": 4,
   "metadata": {},
   "outputs": [],
   "source": [
    "#@title data utils\n",
    "\n",
    "\n",
    "def get_mnist_loaders(batch_size):\n",
    "    train_data = MNIST(train=True, normalise=True)\n",
    "    test_data = MNIST(train=False, normalise=True)\n",
    "    train_loader = DataLoader(\n",
    "        dataset=train_data,\n",
    "        batch_size=batch_size,\n",
    "        shuffle=True,\n",
    "        drop_last=True\n",
    "    )\n",
    "    test_loader = DataLoader(\n",
    "        dataset=test_data,\n",
    "        batch_size=batch_size,\n",
    "        shuffle=True,\n",
    "        drop_last=True\n",
    "    )\n",
    "    return train_loader, test_loader\n",
    "\n",
    "\n",
    "class MNIST(datasets.MNIST):\n",
    "    def __init__(self, train, normalise=True, save_dir=\"data\"):\n",
    "        if normalise:\n",
    "            transform = transforms.Compose(\n",
    "                [\n",
    "                    transforms.ToTensor(),\n",
    "                    transforms.Normalize(\n",
    "                        mean=(0.1307), std=(0.3081)\n",
    "                    )\n",
    "                ]\n",
    "            )\n",
    "        else:\n",
    "            transform = transforms.Compose([transforms.ToTensor()])\n",
    "        super().__init__(save_dir, download=True, train=train, transform=transform)\n",
    "\n",
    "    def __getitem__(self, index):\n",
    "        img, label = super().__getitem__(index)\n",
    "        img = torch.flatten(img)\n",
    "        label = one_hot(label)\n",
    "        return img, label\n",
    "\n",
    "\n",
    "def one_hot(labels, n_classes=10):\n",
    "    arr = torch.eye(n_classes)\n",
    "    return arr[labels]\n",
    "\n",
    "\n",
    "def plot_mnist_imgs(imgs, labels, n_imgs=10):\n",
    "    plt.figure(figsize=(20, 2))\n",
    "    for i in range(n_imgs):\n",
    "        plt.subplot(1, n_imgs, i + 1)\n",
    "        plt.xticks([])\n",
    "        plt.yticks([])\n",
    "        plt.grid(False)\n",
    "        plt.imshow(imgs[i].reshape(28, 28), cmap=plt.cm.binary_r)\n",
    "        plt.xlabel(jnp.argmax(labels, axis=1)[i])\n",
    "    plt.show()\n",
    "    "
   ]
  },
  {
   "cell_type": "markdown",
   "metadata": {
    "jp-MarkdownHeadingCollapsed": true
   },
   "source": [
    "## Network\n",
    "\n",
    "For `jpc` to work, we need to provide a network with callable layers. This is easy to do with the PyTorch-like `nn.Sequential()` in [Equinox](https://github.com/patrick-kidger/equinox). For example, we can define a ReLU MLP with two hidden layers as follows"
   ]
  },
  {
   "cell_type": "code",
   "execution_count": 5,
   "metadata": {},
   "outputs": [
    {
     "name": "stdout",
     "output_type": "stream",
     "text": [
      "[Sequential(\n",
      "  layers=(\n",
      "    Linear(\n",
      "      weight=f32[300,784],\n",
      "      bias=f32[300],\n",
      "      in_features=784,\n",
      "      out_features=300,\n",
      "      use_bias=True\n",
      "    ),\n",
      "    Lambda(fn=<wrapped function relu>)\n",
      "  )\n",
      "), Sequential(\n",
      "  layers=(\n",
      "    Linear(\n",
      "      weight=f32[300,300],\n",
      "      bias=f32[300],\n",
      "      in_features=300,\n",
      "      out_features=300,\n",
      "      use_bias=True\n",
      "    ),\n",
      "    Lambda(fn=<wrapped function relu>)\n",
      "  )\n",
      "), Linear(\n",
      "  weight=f32[10,300],\n",
      "  bias=f32[10],\n",
      "  in_features=300,\n",
      "  out_features=10,\n",
      "  use_bias=True\n",
      ")]\n"
     ]
    }
   ],
   "source": [
    "key = jax.random.PRNGKey(SEED)\n",
    "_, *subkeys = jax.random.split(key, 4)\n",
    "network = [\n",
    "    nn.Sequential(\n",
    "        [\n",
    "            nn.Linear(784, 300, key=subkeys[0]),\n",
    "            nn.Lambda(jax.nn.relu)\n",
    "        ],\n",
    "    ),\n",
    "    nn.Sequential(\n",
    "        [\n",
    "            nn.Linear(300, 300, key=subkeys[1]),\n",
    "            nn.Lambda(jax.nn.relu)\n",
    "        ],\n",
    "    ),\n",
    "    nn.Linear(300, 10, key=subkeys[2]),\n",
    "]\n",
    "print(network)"
   ]
  },
  {
   "cell_type": "markdown",
   "metadata": {},
   "source": [
    "You can also use the utility `jpc.get_fc_network` to define an MLP or fully connected network with some activation functions."
   ]
  },
  {
   "cell_type": "code",
   "execution_count": 6,
   "metadata": {},
   "outputs": [
    {
     "name": "stdout",
     "output_type": "stream",
     "text": [
      "[Sequential(\n",
      "  layers=(\n",
      "    Linear(\n",
      "      weight=f32[300,10],\n",
      "      bias=f32[300],\n",
      "      in_features=10,\n",
      "      out_features=300,\n",
      "      use_bias=True\n",
      "    ),\n",
      "    Lambda(fn=<wrapped function relu>)\n",
      "  )\n",
      "), Sequential(\n",
      "  layers=(\n",
      "    Linear(\n",
      "      weight=f32[300,300],\n",
      "      bias=f32[300],\n",
      "      in_features=300,\n",
      "      out_features=300,\n",
      "      use_bias=True\n",
      "    ),\n",
      "    Lambda(fn=<wrapped function relu>)\n",
      "  )\n",
      "), Linear(\n",
      "  weight=f32[784,300],\n",
      "  bias=f32[784],\n",
      "  in_features=300,\n",
      "  out_features=784,\n",
      "  use_bias=True\n",
      ")]\n"
     ]
    }
   ],
   "source": [
    "network = jpc.make_mlp(key, LAYER_SIZES, act_fn=\"relu\")\n",
    "print(network)"
   ]
  },
  {
   "cell_type": "markdown",
   "metadata": {
    "jp-MarkdownHeadingCollapsed": true
   },
   "source": [
    "## Train and test\n",
    "\n",
    "A hybrid PC network can be trained in a single line of code with `jpc.make_hpc_step()`. See the documentation for more. Similarly, we can use `jpc.test_hpc()` to compute different test metrics. Note that these functions are already \"jitted\" for performance.\n",
    "\n",
    "Below we simply wrap each of these functions in our training and test loops, respectively."
   ]
  },
  {
   "cell_type": "code",
   "execution_count": 11,
   "metadata": {},
   "outputs": [],
   "source": [
    "def evaluate(\n",
    "      key,\n",
    "      layer_sizes,\n",
    "      batch_size,\n",
    "      generator,\n",
    "      amortiser,\n",
    "      test_loader\n",
    "):\n",
    "    amort_accs, hpc_accs, gen_accs = 0, 0, 0\n",
    "    for batch_id, (img_batch, label_batch) in enumerate(test_loader):\n",
    "        img_batch = img_batch.numpy()\n",
    "        label_batch = label_batch.numpy()\n",
    "\n",
    "        amort_acc, hpc_acc, gen_acc, img_preds = jpc.test_hpc(\n",
    "            key=key,\n",
    "            layer_sizes=layer_sizes,\n",
    "            batch_size=batch_size,\n",
    "            generator=generator,\n",
    "            amortiser=amortiser,\n",
    "            y=img_batch,\n",
    "            x=label_batch\n",
    "        )\n",
    "        amort_accs += amort_acc\n",
    "        hpc_accs += hpc_acc\n",
    "        gen_accs += gen_acc\n",
    "\n",
    "    return (\n",
    "        amort_accs / len(test_loader),\n",
    "        hpc_accs / len(test_loader),\n",
    "        gen_accs / len(test_loader),\n",
    "        label_batch,\n",
    "        img_preds\n",
    "    )\n",
    "\n",
    "\n",
    "def train(\n",
    "      seed,\n",
    "      layer_sizes,\n",
    "      act_fn,\n",
    "      batch_size,\n",
    "      lr,\n",
    "      test_every,\n",
    "      n_train_iters\n",
    "):\n",
    "    key = jax.random.PRNGKey(seed)\n",
    "    key, *subkey = jax.random.split(key, 3)\n",
    "    \n",
    "    generator = jpc.make_mlp(subkey[0], layer_sizes, act_fn)\n",
    "    amortiser = jpc.make_mlp(subkey[1], layer_sizes[::-1], act_fn)\n",
    "    \n",
    "    gen_optim = optax.adam(lr)\n",
    "    amort_optim = optax.adam(lr)\n",
    "    optims = [gen_optim, amort_optim]\n",
    "    \n",
    "    gen_opt_state = gen_optim.init(eqx.filter(generator, eqx.is_array))\n",
    "    amort_opt_state = amort_optim.init(eqx.filter(amortiser, eqx.is_array))\n",
    "    opt_states = [gen_opt_state, amort_opt_state]\n",
    "\n",
    "    train_loader, test_loader = get_mnist_loaders(batch_size)\n",
    "    for iter, (img_batch, label_batch) in enumerate(train_loader):\n",
    "        img_batch = img_batch.numpy()\n",
    "        label_batch = label_batch.numpy()\n",
    "\n",
    "        result = jpc.make_hpc_step(\n",
    "            generator=generator,\n",
    "            amortiser=amortiser,\n",
    "            optims=optims,\n",
    "            opt_states=opt_states,\n",
    "            y=img_batch,\n",
    "            x=label_batch\n",
    "        )\n",
    "        generator, amortiser = result[\"models\"]\n",
    "        optims = result[\"optims\"]\n",
    "        opt_states = result[\"opt_states\"]\n",
    "        gen_loss, amort_loss = result[\"losses\"]\n",
    "        if ((iter+1) % test_every) == 0:\n",
    "            amort_acc, hpc_acc, gen_acc, label_batch, img_preds = evaluate(\n",
    "                key,\n",
    "                layer_sizes,\n",
    "                batch_size,\n",
    "                generator,\n",
    "                amortiser,\n",
    "                test_loader\n",
    "            )\n",
    "            print(\n",
    "                f\"Iter {iter+1}, gen loss={gen_loss:4f}, \"\n",
    "                f\"amort loss={amort_loss:4f}, \"\n",
    "                f\"avg amort test accuracy={amort_acc:4f}, \"\n",
    "                f\"avg hpc test accuracy={hpc_acc:4f}, \"\n",
    "                f\"avg gen test accuracy={gen_acc:4f}, \"\n",
    "            )\n",
    "            if (iter+1) >= n_train_iters:\n",
    "                break\n",
    "\n",
    "    plot_mnist_imgs(img_preds, label_batch)\n",
    "    return amortiser, generator\n"
   ]
  },
  {
   "cell_type": "markdown",
   "metadata": {},
   "source": [
    "## Run"
   ]
  },
  {
   "cell_type": "code",
   "execution_count": 12,
   "metadata": {},
   "outputs": [
    {
     "name": "stderr",
     "output_type": "stream",
     "text": [
      "/Users/fi69/PycharmProjects/jpc/venv/lib/python3.10/site-packages/jax/_src/core.py:678: FutureWarning: unhashable type: <class 'jax._src.interpreters.partial_eval.DynamicJaxprTracer'>. Attempting to hash a tracer will lead to an error in a future JAX release.\n",
      "  warnings.warn(\n",
      "/Users/fi69/PycharmProjects/jpc/venv/lib/python3.10/site-packages/jax/_src/core.py:678: FutureWarning: unhashable type: <class 'jax._src.interpreters.partial_eval.DynamicJaxprTracer'>. Attempting to hash a tracer will lead to an error in a future JAX release.\n",
      "  warnings.warn(\n"
     ]
    },
    {
     "name": "stdout",
     "output_type": "stream",
     "text": [
      "Iter 100, gen loss=0.674859, amort loss=0.053664, avg amort test accuracy=0.735877, avg hpc test accuracy=0.746094, avg gen test accuracy=0.093750, \n",
      "Iter 200, gen loss=0.586471, amort loss=0.043876, avg amort test accuracy=0.837540, avg hpc test accuracy=0.840545, avg gen test accuracy=0.103165, \n",
      "Iter 300, gen loss=0.584690, amort loss=0.040111, avg amort test accuracy=0.856070, avg hpc test accuracy=0.855669, avg gen test accuracy=0.104367, \n"
     ]
    },
    {
     "data": {
      "image/png": "[encoded data removed]",
      "text/plain": [
       "<Figure size 2000x200 with 10 Axes>"
      ]
     },
     "metadata": {},
     "output_type": "display_data"
    }
   ],
   "source": [
    "network = train(\n",
    "    seed=SEED,\n",
    "    layer_sizes=LAYER_SIZES,\n",
    "    act_fn=ACT_FN,\n",
    "    batch_size=BATCH_SIZE,\n",
    "    lr=LEARNING_RATE,\n",
    "    test_every=TEST_EVERY,\n",
    "    n_train_iters=N_TRAIN_ITERS\n",
    ")"
   ]
  }
 ],
 "metadata": {
  "kernelspec": {
   "display_name": "Python 3 (ipykernel)",
   "language": "python",
   "name": "python3"
  },
  "language_info": {
   "codemirror_mode": {
    "name": "ipython",
    "version": 3
   },
   "file_extension": ".py",
   "mimetype": "text/x-python",
   "name": "python",
   "nbconvert_exporter": "python",
   "pygments_lexer": "ipython3",
   "version": "3.10.2"
  }
 },
 "nbformat": 4,
 "nbformat_minor": 4
}
