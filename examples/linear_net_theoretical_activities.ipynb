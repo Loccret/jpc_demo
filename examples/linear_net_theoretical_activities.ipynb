{
 "cells": [
  {
   "cell_type": "markdown",
   "metadata": {},
   "source": [
    "# Theoretical activities of deep linear networks\n",
    "\n",
    "[![Open in Colab](https://colab.research.google.com/assets/colab-badge.svg)](https://github.com/thebuckleylab/jpc/blob/main/examples/linear_net_theoretical_activities.ipynb)"
   ]
  },
  {
   "cell_type": "code",
   "execution_count": 1,
   "metadata": {},
   "outputs": [],
   "source": [
    "%%capture\n",
    "!pip install torch==2.3.1\n",
    "!pip install torchvision==0.18.1\n",
    "!pip install plotly==5.11.0\n",
    "!pip install -U kaleido"
   ]
  },
  {
   "cell_type": "code",
   "execution_count": 2,
   "metadata": {},
   "outputs": [],
   "source": [
    "import jpc\n",
    "\n",
    "import jax\n",
    "from jax import vmap\n",
    "import jax.numpy as jnp\n",
    "import equinox as eqx\n",
    "import equinox.nn as nn\n",
    "import optax\n",
    "\n",
    "import torch\n",
    "from torch.utils.data import DataLoader\n",
    "from torchvision import datasets, transforms\n",
    "\n",
    "import plotly.graph_objs as go\n",
    "import plotly.io as pio\n",
    "\n",
    "pio.renderers.default = 'iframe'"
   ]
  },
  {
   "cell_type": "markdown",
   "metadata": {},
   "source": [
    "## Hyperparameters\n",
    "\n",
    "We define some global parameters, including network architecture, learning rate, batch size etc."
   ]
  },
  {
   "cell_type": "code",
   "execution_count": 3,
   "metadata": {},
   "outputs": [],
   "source": [
    "SEED = 0\n",
    "LEARNING_RATE = 1e-3\n",
    "BATCH_SIZE = 64\n",
    "TEST_EVERY = 10\n",
    "N_TRAIN_ITERS = 20"
   ]
  },
  {
   "cell_type": "markdown",
   "metadata": {
    "jp-MarkdownHeadingCollapsed": true
   },
   "source": [
    "## Dataset\n",
    "\n",
    "Some utils to fetch MNIST."
   ]
  },
  {
   "cell_type": "code",
   "execution_count": 4,
   "metadata": {},
   "outputs": [],
   "source": [
    "#@title data utils\n",
    "\n",
    "\n",
    "def get_mnist_loaders(batch_size):\n",
    "    train_data = MNIST(train=True, normalise=True)\n",
    "    test_data = MNIST(train=False, normalise=True)\n",
    "    train_loader = DataLoader(\n",
    "        dataset=train_data,\n",
    "        batch_size=batch_size,\n",
    "        shuffle=True,\n",
    "        drop_last=True\n",
    "    )\n",
    "    test_loader = DataLoader(\n",
    "        dataset=test_data,\n",
    "        batch_size=batch_size,\n",
    "        shuffle=True,\n",
    "        drop_last=True\n",
    "    )\n",
    "    return train_loader, test_loader\n",
    "\n",
    "\n",
    "class MNIST(datasets.MNIST):\n",
    "    def __init__(self, train, normalise=True, save_dir=\"data\"):\n",
    "        if normalise:\n",
    "            transform = transforms.Compose(\n",
    "                [\n",
    "                    transforms.ToTensor(),\n",
    "                    transforms.Normalize(\n",
    "                        mean=(0.1307), std=(0.3081)\n",
    "                    )\n",
    "                ]\n",
    "            )\n",
    "        else:\n",
    "            transform = transforms.Compose([transforms.ToTensor()])\n",
    "        super().__init__(save_dir, download=True, train=train, transform=transform)\n",
    "\n",
    "    def __getitem__(self, index):\n",
    "        img, label = super().__getitem__(index)\n",
    "        img = torch.flatten(img)\n",
    "        label = one_hot(label)\n",
    "        return img, label\n",
    "\n",
    "\n",
    "def one_hot(labels, n_classes=10):\n",
    "    arr = torch.eye(n_classes)\n",
    "    return arr[labels]\n",
    "    "
   ]
  },
  {
   "cell_type": "markdown",
   "metadata": {
    "jp-MarkdownHeadingCollapsed": true
   },
   "source": [
    "## Plotting"
   ]
  },
  {
   "cell_type": "code",
   "execution_count": 5,
   "metadata": {},
   "outputs": [],
   "source": [
    "def plot_layer_energies(energies):\n",
    "    n_train_iters = energies[\"theory\"].shape[0]\n",
    "    n_energies = energies[\"theory\"].shape[1]\n",
    "    train_iters = [b+1 for b in range(n_train_iters)]\n",
    "    \n",
    "    colors = ['#636EFA', '#EF553B', '#00CC96', '#AB63FA', '#FFA15A', '#19D3F3', '#FF6692', '#B6E880', '#FF97FF', '#FECB52', '#8C564B']\n",
    "    \n",
    "    fig = go.Figure()\n",
    "    for n in range(n_energies):\n",
    "        fig.add_traces(\n",
    "            go.Scatter(\n",
    "                x=train_iters,\n",
    "                y=energies[\"theory\"][:, n],\n",
    "                mode=\"lines\",\n",
    "                line=dict(\n",
    "                    width=2, \n",
    "                    dash=\"dash\",\n",
    "                    color=colors[n]\n",
    "                ),\n",
    "                showlegend=False\n",
    "            )\n",
    "        )\n",
    "        fig.add_traces(\n",
    "            go.Scatter(\n",
    "                x=train_iters,\n",
    "                y=energies[\"experiment\"][:, n],\n",
    "                name=f\"$\\Large{{\\ell_{n+1}}}$\",\n",
    "                mode=\"lines\",\n",
    "                line=dict(\n",
    "                    width=3, \n",
    "                    dash=\"solid\",\n",
    "                    color=colors[n]\n",
    "                ),\n",
    "            )\n",
    "        )\n",
    "    \n",
    "    fig.update_layout(\n",
    "        height=350,\n",
    "        width=475,\n",
    "        xaxis=dict(\n",
    "            title=\"Training iteration\",\n",
    "            tickvals=[1, int(train_iters[-1]/2), train_iters[-1]],\n",
    "            ticktext=[1, int(train_iters[-1]/2), train_iters[-1]],\n",
    "        ),\n",
    "        yaxis=dict(\n",
    "            title=\"Energy\",\n",
    "            nticks=3\n",
    "        ),\n",
    "        font=dict(size=16),\n",
    "    )\n",
    "    fig.write_image(\"dln_layer_energies_example.pdf\")\n",
    "    return fig\n"
   ]
  },
  {
   "cell_type": "markdown",
   "metadata": {
    "jp-MarkdownHeadingCollapsed": true
   },
   "source": [
    "## Linear network"
   ]
  },
  {
   "cell_type": "code",
   "execution_count": 6,
   "metadata": {},
   "outputs": [],
   "source": [
    "key = jax.random.PRNGKey(0)\n",
    "subkeys = jax.random.split(key, 21)\n",
    "\n",
    "network = [\n",
    "    eqx.nn.Linear(784, 300, key=subkeys[0], use_bias=False),\n",
    "    eqx.nn.Linear(300, 300, key=subkeys[1], use_bias=False),\n",
    "    eqx.nn.Linear(300, 300, key=subkeys[2], use_bias=False),\n",
    "    eqx.nn.Linear(300, 300, key=subkeys[3], use_bias=False),\n",
    "    eqx.nn.Linear(300, 300, key=subkeys[4], use_bias=False),\n",
    "    eqx.nn.Linear(300, 300, key=subkeys[5], use_bias=False),\n",
    "    eqx.nn.Linear(300, 300, key=subkeys[6], use_bias=False),\n",
    "    eqx.nn.Linear(300, 300, key=subkeys[7], use_bias=False),\n",
    "    eqx.nn.Linear(300, 300, key=subkeys[8], use_bias=False),\n",
    "    eqx.nn.Linear(300, 300, key=subkeys[9], use_bias=False),\n",
    "    eqx.nn.Linear(300, 300, key=subkeys[10], use_bias=False),\n",
    "    eqx.nn.Linear(300, 300, key=subkeys[11], use_bias=False),\n",
    "    eqx.nn.Linear(300, 300, key=subkeys[12], use_bias=False),\n",
    "    eqx.nn.Linear(300, 300, key=subkeys[13], use_bias=False),\n",
    "    eqx.nn.Linear(300, 300, key=subkeys[14], use_bias=False),\n",
    "    eqx.nn.Linear(300, 300, key=subkeys[15], use_bias=False),\n",
    "    eqx.nn.Linear(300, 300, key=subkeys[16], use_bias=False),\n",
    "    eqx.nn.Linear(300, 300, key=subkeys[17], use_bias=False),\n",
    "    eqx.nn.Linear(300, 300, key=subkeys[18], use_bias=False),\n",
    "    eqx.nn.Linear(300, 300, key=subkeys[19], use_bias=False),\n",
    "    eqx.nn.Linear(300, 10, key=subkeys[20], use_bias=False),\n",
    "]"
   ]
  },
  {
   "cell_type": "markdown",
   "metadata": {},
   "source": [
    "## Train and test\n",
    "\n",
    "A PC network can be trained in a single line of code with `jpc.make_pc_step()`. See the documentation for more. Similarly, we can use `jpc.test_discriminative_pc()` to compute the network accuracy. Note that these functions are already \"jitted\" for performance.\n",
    "\n",
    "Below we simply wrap each of these functions in our training and test loops, respectively."
   ]
  },
  {
   "cell_type": "code",
   "execution_count": 7,
   "metadata": {},
   "outputs": [],
   "source": [
    "def evaluate(model, test_loader):\n",
    "    test_acc = 0\n",
    "    for batch_id, (img_batch, label_batch) in enumerate(test_loader):\n",
    "        img_batch = img_batch.numpy()\n",
    "        label_batch = label_batch.numpy()\n",
    "\n",
    "        test_acc += jpc.test_discriminative_pc(\n",
    "            model=model,\n",
    "            y=label_batch,\n",
    "            x=img_batch\n",
    "        )\n",
    "\n",
    "    return test_acc / len(test_loader)\n",
    "\n",
    "\n",
    "def train(\n",
    "      model,  \n",
    "      lr,\n",
    "      batch_size,\n",
    "      t1,\n",
    "      test_every,\n",
    "      n_train_iters\n",
    "):\n",
    "    optim = optax.adam(lr)\n",
    "    opt_state = optim.init(eqx.filter(model, eqx.is_array))\n",
    "    train_loader, test_loader = get_mnist_loaders(batch_size)\n",
    "\n",
    "    As, cond_numbers = [], []\n",
    "    num_energies, theory_energies = [], []\n",
    "    num_total_energies, theory_total_energies = [], []\n",
    "    for iter, (img_batch, label_batch) in enumerate(train_loader):\n",
    "        img_batch = img_batch.numpy()\n",
    "        label_batch = label_batch.numpy()\n",
    "\n",
    "        theory_total_energies.append(\n",
    "            jpc.linear_equilib_energy(\n",
    "                network=model, \n",
    "                x=img_batch, \n",
    "                y=label_batch\n",
    "            )\n",
    "        )\n",
    "        A = jpc.linear_activities_coeff_matrix([l.weight for l in model])\n",
    "        As.append(A)\n",
    "        cond_numbers.append(jnp.linalg.cond(A))\n",
    "        theory_activities = jpc.linear_activities_solution(\n",
    "            network=model, \n",
    "            x=img_batch, \n",
    "            y=label_batch\n",
    "        )\n",
    "        theory_energies.append(\n",
    "            jnp.flip(jpc.pc_energy_fn(\n",
    "                model,\n",
    "                theory_activities,\n",
    "                x=img_batch,\n",
    "                y=label_batch,\n",
    "                record_layers=True\n",
    "            ))\n",
    "        )\n",
    "        result = jpc.make_pc_step(\n",
    "            model,\n",
    "            optim,\n",
    "            opt_state,\n",
    "            y=label_batch,\n",
    "            x=img_batch,\n",
    "            t1=t1,\n",
    "            record_energies=True\n",
    "        )\n",
    "        model, optim, opt_state = result[\"model\"], result[\"optim\"], result[\"opt_state\"]\n",
    "        train_loss, t_max = result[\"loss\"], result[\"t_max\"]\n",
    "        num_total_energies.append(result[\"energies\"][:, t_max-1].sum())\n",
    "        num_energies.append(result[\"energies\"][:, t_max-1])\n",
    "\n",
    "        if ((iter+1) % test_every) == 0:\n",
    "            avg_test_acc = evaluate(model, test_loader)\n",
    "            print(\n",
    "                f\"Train iter {iter+1}, train loss={train_loss:4f}, \"\n",
    "                f\"avg test accuracy={avg_test_acc:4f}\"\n",
    "            )\n",
    "            if (iter+1) >= n_train_iters:\n",
    "                break\n",
    "\n",
    "    return {\n",
    "        \"experiment\": jnp.array(num_energies),\n",
    "        \"theory\": jnp.array(theory_energies)\n",
    "    }, As, cond_numbers\n"
   ]
  },
  {
   "cell_type": "markdown",
   "metadata": {},
   "source": [
    "## Run"
   ]
  },
  {
   "cell_type": "code",
   "execution_count": 8,
   "metadata": {},
   "outputs": [
    {
     "name": "stderr",
     "output_type": "stream",
     "text": [
      "/Users/fi69/PycharmProjects/jpc/venv/lib/python3.10/site-packages/jax/_src/core.py:678: FutureWarning:\n",
      "\n",
      "unhashable type: <class 'jax._src.interpreters.partial_eval.DynamicJaxprTracer'>. Attempting to hash a tracer will lead to an error in a future JAX release.\n",
      "\n"
     ]
    },
    {
     "name": "stdout",
     "output_type": "stream",
     "text": [
      "Train iter 10, train loss=0.091816, avg test accuracy=0.270333\n",
      "Train iter 20, train loss=0.089849, avg test accuracy=0.335337\n"
     ]
    }
   ],
   "source": [
    "energies, As, cond_numbers = train(\n",
    "    model=network,\n",
    "    lr=LEARNING_RATE,\n",
    "    batch_size=BATCH_SIZE,\n",
    "    t1=300,\n",
    "    test_every=TEST_EVERY,\n",
    "    n_train_iters=N_TRAIN_ITERS\n",
    ")"
   ]
  },
  {
   "cell_type": "code",
   "execution_count": 9,
   "metadata": {},
   "outputs": [],
   "source": [
    "import matplotlib.pyplot as plt"
   ]
  },
  {
   "cell_type": "code",
   "execution_count": 10,
   "metadata": {},
   "outputs": [
    {
     "data": {
      "text/plain": [
       "[<matplotlib.lines.Line2D at 0x31bee37c0>]"
      ]
     },
     "execution_count": 10,
     "metadata": {},
     "output_type": "execute_result"
    },
    {
     "data": {
      "image/png": "[encoded data removed]",
      "text/plain": [
       "<Figure size 640x480 with 1 Axes>"
      ]
     },
     "metadata": {},
     "output_type": "display_data"
    }
   ],
   "source": [
    "plt.plot(cond_numbers)"
   ]
  },
  {
   "cell_type": "code",
   "execution_count": 12,
   "metadata": {},
   "outputs": [
    {
     "data": {
      "text/html": [
       "<iframe\n",
       "    scrolling=\"no\"\n",
       "    width=\"620px\"\n",
       "    height=\"420\"\n",
       "    src=\"iframe_figures/figure_12.html\"\n",
       "    frameborder=\"0\"\n",
       "    allowfullscreen\n",
       "></iframe>\n"
      ]
     },
     "metadata": {},
     "output_type": "display_data"
    }
   ],
   "source": [
    "n_train_iters = energies[\"theory\"].shape[0]\n",
    "n_energies = energies[\"theory\"].shape[1]\n",
    "train_iters = [b+1 for b in range(n_train_iters)]\n",
    "\n",
    "colors = [\n",
    "    '#636EFA', \n",
    "    '#EF553B',\n",
    "    '#00CC96', \n",
    "    '#AB63FA', \n",
    "    '#FFA15A', \n",
    "    '#19D3F3', \n",
    "    '#FF6692', \n",
    "    '#B6E880', \n",
    "    '#FF97FF', \n",
    "    '#FECB52', \n",
    "    '#8C564B',\n",
    "    '#636EFA', \n",
    "    '#EF553B',\n",
    "    '#00CC96', \n",
    "    '#AB63FA', \n",
    "    '#FFA15A', \n",
    "    '#19D3F3', \n",
    "    '#FF6692', \n",
    "    '#B6E880', \n",
    "    '#FF97FF', \n",
    "    '#FECB52', \n",
    "    '#8C564B',\n",
    "    '#636EFA', \n",
    "    '#EF553B',\n",
    "    '#00CC96', \n",
    "    '#AB63FA', \n",
    "    '#FFA15A', \n",
    "    '#19D3F3', \n",
    "    '#FF6692', \n",
    "    '#B6E880', \n",
    "    '#FF97FF', \n",
    "    '#FECB52', \n",
    "    '#8C564B'\n",
    "]\n",
    "\n",
    "fig = go.Figure()\n",
    "for n in range(n_energies):\n",
    "    fig.add_traces(\n",
    "        go.Scatter(\n",
    "            x=train_iters,\n",
    "            y=energies[\"theory\"][:, n],\n",
    "            mode=\"lines\",\n",
    "            line=dict(\n",
    "                width=3, \n",
    "                dash=\"dash\",\n",
    "                color=colors[n]\n",
    "            ),\n",
    "            showlegend=False\n",
    "        )\n",
    "    )\n",
    "    fig.add_traces(\n",
    "        go.Scatter(\n",
    "            x=train_iters,\n",
    "            y=energies[\"experiment\"][:, n],\n",
    "            name=f\"$\\Large{{\\ell_{{{n+1}}}}}$\",\n",
    "            mode=\"lines\",\n",
    "            line=dict(\n",
    "                width=2, \n",
    "                dash=\"solid\",\n",
    "                color=colors[n]\n",
    "            ),\n",
    "        )\n",
    "    )\n",
    "\n",
    "fig.update_layout(\n",
    "    height=400,\n",
    "    width=600,\n",
    "    xaxis=dict(\n",
    "        title=\"Training iteration\",\n",
    "        tickvals=[1, int(train_iters[-1]/2), train_iters[-1]],\n",
    "        ticktext=[1, int(train_iters[-1]/2), train_iters[-1]],\n",
    "    ),\n",
    "    yaxis=dict(\n",
    "        title=\"Energy\",\n",
    "        nticks=3\n",
    "    ),\n",
    "    font=dict(size=16)\n",
    ")"
   ]
  },
  {
   "cell_type": "code",
   "execution_count": null,
   "metadata": {},
   "outputs": [],
   "source": []
  }
 ],
 "metadata": {
  "kernelspec": {
   "display_name": "Python 3 (ipykernel)",
   "language": "python",
   "name": "python3"
  },
  "language_info": {
   "codemirror_mode": {
    "name": "ipython",
    "version": 3
   },
   "file_extension": ".py",
   "mimetype": "text/x-python",
   "name": "python",
   "nbconvert_exporter": "python",
   "pygments_lexer": "ipython3",
   "version": "3.10.2"
  }
 },
 "nbformat": 4,
 "nbformat_minor": 4
}
