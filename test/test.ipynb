{
 "cells": [
  {
   "cell_type": "code",
   "execution_count": 14,
   "id": "88593dce",
   "metadata": {},
   "outputs": [],
   "source": [
    "from diffrax import diffeqsolve, ODETerm, Dopri5\n",
    "import jax.numpy as jnp\n",
    "\n",
    "def f(t, y, args):\n",
    "    return -jnp.exp(-t)\n",
    "\n",
    "term = ODETerm(f)\n",
    "solver = Dopri5()\n",
    "y0 = jnp.array([2., 3.])\n",
    "solution = diffeqsolve(term, solver, t0=0, t1=1, dt0=0.1, y0=y0)"
   ]
  },
  {
   "cell_type": "code",
   "execution_count": 15,
   "id": "fbafc82c",
   "metadata": {},
   "outputs": [],
   "source": [
    "from diffrax import diffeqsolve, ODETerm, Dopri5\n",
    "import jax.numpy as jnp\n",
    "\n",
    "def f(t, y, args):\n",
    "    return {\"e\":-jnp.exp(-t)}\n",
    "\n",
    "term = ODETerm(f)\n",
    "solver = Dopri5()\n",
    "y0 = {\"e\": jnp.array([2., 3.])}\n",
    "solution = diffeqsolve(term, solver, t0=0, t1=1, dt0=0.1, y0=y0)"
   ]
  },
  {
   "cell_type": "code",
   "execution_count": 16,
   "id": "7d11c11d",
   "metadata": {},
   "outputs": [
    {
     "name": "stdout",
     "output_type": "stream",
     "text": [
      "Solution(\n",
      "  t0=f32[],\n",
      "  t1=f32[],\n",
      "  ts=f32[1],\n",
      "  ys={'e': f32[1,2]},\n",
      "  interpolation=None,\n",
      "  stats={\n",
      "    'max_steps': 4096,\n",
      "    'num_accepted_steps': weak_i32[],\n",
      "    'num_rejected_steps': weak_i32[],\n",
      "    'num_steps': weak_i32[]\n",
      "  },\n",
      "  result=EnumerationItem(_value=i32[], _enumeration=diffrax._solution.RESULTS),\n",
      "  solver_state=None,\n",
      "  controller_state=None,\n",
      "  made_jump=None,\n",
      "  event_mask=None\n",
      ")\n"
     ]
    }
   ],
   "source": [
    "print(solution)"
   ]
  },
  {
   "cell_type": "code",
   "execution_count": null,
   "id": "2727511b",
   "metadata": {},
   "outputs": [
    {
     "name": "stdout",
     "output_type": "stream",
     "text": [
      "[0. 1. 2. 3.]\n",
      "[1.         0.3678826  0.13533902 0.04978956]\n"
     ]
    }
   ],
   "source": [
    "from diffrax import diffeqsolve, Dopri5, ODETerm, SaveAt, PIDController\n",
    "\n",
    "vector_field = lambda t, y, args: -y\n",
    "term = ODETerm(vector_field)\n",
    "solver = Dopri5()\n",
    "saveat = SaveAt(ts=[0., 1., 2., 3.])\n",
    "stepsize_controller = PIDController(rtol=1e-5, atol=1e-5)\n",
    "\n",
    "sol = diffeqsolve(term, solver, t0=0, t1=3, dt0=0.1, y0=1, saveat=saveat,\n",
    "                  stepsize_controller=stepsize_controller)\n",
    "\n",
    "print(sol.ts)  # DeviceArray([0.   , 1.   , 2.   , 3.    ])\n",
    "print(sol.ys)  # DeviceArray([1.   , 0.368, 0.135, 0.0498])"
   ]
  },
  {
   "cell_type": "code",
   "execution_count": 1,
   "id": "7a0df6f1",
   "metadata": {},
   "outputs": [
    {
     "name": "stderr",
     "output_type": "stream",
     "text": [
      "WARNING:2025-10-25 16:16:13,589:jax._src.xla_bridge:966: An NVIDIA GPU may be present on this machine, but a CUDA-enabled jaxlib is not installed. Falling back to cpu.\n"
     ]
    },
    {
     "name": "stdout",
     "output_type": "stream",
     "text": [
      "times: [0.         0.1        0.2        0.3        0.4        0.5\n",
      " 0.6        0.7        0.8        0.90000004 1.        ]\n",
      "values: [1.        1.105171  1.2214029 1.3498588 1.4918247 1.6487212 1.8221189\n",
      " 2.0137525 2.2255409 2.4596033 2.7182817]\n"
     ]
    }
   ],
   "source": [
    "# pip install diffrax jax jaxlib  # if needed\n",
    "import jax.numpy as jnp\n",
    "from diffrax import diffeqsolve, ODETerm, Tsit5, SaveAt\n",
    "\n",
    "# dy/dt = y, y(0) = 1  → exact solution is y(t) = exp(t)\n",
    "def f(t, y, args):\n",
    "    return y\n",
    "\n",
    "term   = ODETerm(f)\n",
    "solver = Tsit5()\n",
    "\n",
    "t0, t1 = 0.0, 1.0\n",
    "y0     = jnp.array(1.0)\n",
    "dt0    = 0.1                      # initial step size guess\n",
    "\n",
    "ts = jnp.linspace(t0, t1, 11)     # 11 uniform samples between 0 and 1\n",
    "sol = diffeqsolve(term, solver, t0=t0, t1=t1, dt0=dt0, y0=y0, saveat=SaveAt(ts=ts))\n",
    "\n",
    "print(\"times:\", sol.ts)           # -> [0. , 0.1, ..., 1.0]\n",
    "print(\"values:\", sol.ys)          # -> approximates exp(ts)\n"
   ]
  },
  {
   "cell_type": "code",
   "execution_count": 2,
   "id": "65e2c8d0",
   "metadata": {},
   "outputs": [
    {
     "data": {
      "text/plain": [
       "Array([1.       , 1.105171 , 1.2214028, 1.3498588, 1.4918246, 1.6487212,\n",
       "       1.8221189, 2.0137527, 2.2255409, 2.4596033, 2.7182817],      dtype=float32)"
      ]
     },
     "execution_count": 2,
     "metadata": {},
     "output_type": "execute_result"
    }
   ],
   "source": [
    "jnp.exp(sol.ts)  # exact values for comparison"
   ]
  },
  {
   "cell_type": "code",
   "execution_count": 6,
   "id": "729123fc",
   "metadata": {},
   "outputs": [
    {
     "name": "stdout",
     "output_type": "stream",
     "text": [
      "(101,) (101, 1)\n",
      "[0.         0.01       0.02       0.03       0.04       0.05\n",
      " 0.06       0.07       0.08       0.09       0.09999999 0.11\n",
      " 0.12       0.13       0.14       0.14999999 0.16       0.17\n",
      " 0.17999999 0.19       0.19999999 0.21       0.22       0.22999999\n",
      " 0.24       0.25       0.26       0.26999998 0.28       0.29\n",
      " 0.29999998 0.31       0.32       0.32999998 0.34       0.35\n",
      " 0.35999998 0.37       0.38       0.39       0.39999998 0.41\n",
      " 0.42       0.42999998 0.44       0.45       0.45999998 0.47\n",
      " 0.48       0.48999998 0.5        0.51       0.52       0.53\n",
      " 0.53999996 0.55       0.56       0.57       0.58       0.59\n",
      " 0.59999996 0.61       0.62       0.63       0.64       0.65\n",
      " 0.65999997 0.66999996 0.68       0.69       0.7        0.71\n",
      " 0.71999997 0.72999996 0.74       0.75       0.76       0.77\n",
      " 0.78       0.78999996 0.79999995 0.81       0.82       0.83\n",
      " 0.84       0.84999996 0.85999995 0.87       0.88       0.89\n",
      " 0.9        0.90999997 0.91999996 0.93       0.94       0.95\n",
      " 0.96       0.96999997 0.97999996 0.98999995 1.        ]\n",
      "[[1.        ]\n",
      " [1.0012422 ]\n",
      " [1.0024492 ]\n",
      " [1.003621  ]\n",
      " [1.0047575 ]\n",
      " [1.0058588 ]\n",
      " [1.0069247 ]\n",
      " [1.0079554 ]\n",
      " [1.0089508 ]\n",
      " [1.0099108 ]\n",
      " [1.0108355 ]\n",
      " [1.011725  ]\n",
      " [1.012579  ]\n",
      " [1.0133977 ]\n",
      " [1.014181  ]\n",
      " [1.014929  ]\n",
      " [1.0156418 ]\n",
      " [1.0163193 ]\n",
      " [1.0169615 ]\n",
      " [1.0175683 ]\n",
      " [1.01814   ]\n",
      " [1.0186764 ]\n",
      " [1.0191777 ]\n",
      " [1.0196438 ]\n",
      " [1.0200747 ]\n",
      " [1.0204706 ]\n",
      " [1.0208315 ]\n",
      " [1.0211574 ]\n",
      " [1.0214483 ]\n",
      " [1.0217043 ]\n",
      " [1.0219256 ]\n",
      " [1.022112  ]\n",
      " [1.0222636 ]\n",
      " [1.0223807 ]\n",
      " [1.0224632 ]\n",
      " [1.0225111 ]\n",
      " [1.0225246 ]\n",
      " [1.0225036 ]\n",
      " [1.0224483 ]\n",
      " [1.0223588 ]\n",
      " [1.0222352 ]\n",
      " [1.0220774 ]\n",
      " [1.0218858 ]\n",
      " [1.0216601 ]\n",
      " [1.0214007 ]\n",
      " [1.0211076 ]\n",
      " [1.0207808 ]\n",
      " [1.0204206 ]\n",
      " [1.0200268 ]\n",
      " [1.0195998 ]\n",
      " [1.0191395 ]\n",
      " [1.0186461 ]\n",
      " [1.0181197 ]\n",
      " [1.0175604 ]\n",
      " [1.0169683 ]\n",
      " [1.0163435 ]\n",
      " [1.0156862 ]\n",
      " [1.0149964 ]\n",
      " [1.0142744 ]\n",
      " [1.0135201 ]\n",
      " [1.0127338 ]\n",
      " [1.0119156 ]\n",
      " [1.0110655 ]\n",
      " [1.0101837 ]\n",
      " [1.0092704 ]\n",
      " [1.0083257 ]\n",
      " [1.0073497 ]\n",
      " [1.0063425 ]\n",
      " [1.0053043 ]\n",
      " [1.0042353 ]\n",
      " [1.0031354 ]\n",
      " [1.0020051 ]\n",
      " [1.0008442 ]\n",
      " [0.99965304]\n",
      " [0.99843174]\n",
      " [0.99718046]\n",
      " [0.9958993 ]\n",
      " [0.9945885 ]\n",
      " [0.9932481 ]\n",
      " [0.9918783 ]\n",
      " [0.99047923]\n",
      " [0.98905104]\n",
      " [0.98759395]\n",
      " [0.98610806]\n",
      " [0.9845936 ]\n",
      " [0.9830506 ]\n",
      " [0.9814793 ]\n",
      " [0.97987986]\n",
      " [0.9782524 ]\n",
      " [0.9765971 ]\n",
      " [0.97491413]\n",
      " [0.9732037 ]\n",
      " [0.97146595]\n",
      " [0.969701  ]\n",
      " [0.96790904]\n",
      " [0.9660902 ]\n",
      " [0.9642447 ]\n",
      " [0.9623727 ]\n",
      " [0.9604744 ]\n",
      " [0.95854986]\n",
      " [0.9565993 ]]\n"
     ]
    }
   ],
   "source": [
    "import jax.numpy as jnp\n",
    "import jax.nn as jnn\n",
    "import jax.random as jr\n",
    "import equinox as eqx\n",
    "from diffrax import ODETerm, Tsit5, diffeqsolve, SaveAt\n",
    "\n",
    "# MLP that maps [y, t] -> dy/dt (same shape as y)\n",
    "key = jr.PRNGKey(0)\n",
    "mlp = eqx.nn.MLP(\n",
    "    in_size=2, out_size=1, width_size=32, depth=2,\n",
    "    activation=jnn.tanh,\n",
    "    # NOTE: do NOT set final_activation=None; default is identity.\n",
    "    final_activation=lambda x: x,  # (optional explicit)\n",
    "    key=key\n",
    ")\n",
    "\n",
    "def vf(t, y, net):\n",
    "    # concatenate state and time to make a time-dependent vector field\n",
    "    x = jnp.concatenate([jnp.atleast_1d(y), jnp.atleast_1d(t)])  # shape (2,)\n",
    "    return net(x)  # must match y's shape; here (1,)\n",
    "\n",
    "term   = ODETerm(vf)\n",
    "solver = Tsit5()\n",
    "\n",
    "t0, t1 = 0.0, 1.0\n",
    "y0     = jnp.array([1.0])            # vector state (shape (1,))\n",
    "ts     = jnp.linspace(t0, t1, 101)\n",
    "\n",
    "sol = diffeqsolve(\n",
    "    term, solver, t0=t0, t1=t1, dt0=1e-2, y0=y0,\n",
    "    args=mlp, saveat=SaveAt(ts=ts)\n",
    ")\n",
    "\n",
    "print(sol.ts.shape, sol.ys.shape)\n",
    "print(sol.ts)  # time points\n",
    "print(sol.ys)  # solution at time points\n"
   ]
  },
  {
   "cell_type": "code",
   "execution_count": null,
   "id": "256fa0f9",
   "metadata": {},
   "outputs": [],
   "source": []
  },
  {
   "cell_type": "code",
   "execution_count": null,
   "id": "a7176698",
   "metadata": {},
   "outputs": [],
   "source": []
  }
 ],
 "metadata": {
  "kernelspec": {
   "display_name": "jpc",
   "language": "python",
   "name": "python3"
  },
  "language_info": {
   "codemirror_mode": {
    "name": "ipython",
    "version": 3
   },
   "file_extension": ".py",
   "mimetype": "text/x-python",
   "name": "python",
   "nbconvert_exporter": "python",
   "pygments_lexer": "ipython3",
   "version": "3.11.14"
  }
 },
 "nbformat": 4,
 "nbformat_minor": 5
}
