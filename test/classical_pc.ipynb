{
 "cells": [
  {
   "cell_type": "code",
   "execution_count": 22,
   "id": "380d2897",
   "metadata": {},
   "outputs": [],
   "source": [
    "import jax\n",
    "import equinox as eqx\n",
    "import equinox.nn as nn\n",
    "import optax\n",
    "from jax import numpy as jnp\n",
    "\n",
    "import torch\n",
    "from torch.utils.data import DataLoader\n",
    "from torchvision import datasets, transforms\n",
    "from torch.utils.tensorboard import SummaryWriter\n",
    "import warnings\n",
    "warnings.simplefilter('ignore')  # ignore warnings\n",
    "from pathlib import Path\n",
    "import numpy as np\n",
    "import os\n",
    "import pickle\n",
    "from typing import Callable, Optional, Tuple\n",
    "from jaxtyping import PRNGKeyArray, PyTree, ArrayLike, Scalar, Array"
   ]
  },
  {
   "cell_type": "code",
   "execution_count": 18,
   "id": "09d504f1",
   "metadata": {},
   "outputs": [
    {
     "name": "stderr",
     "output_type": "stream",
     "text": [
      "100%|██████████| 9.91M/9.91M [00:02<00:00, 3.50MB/s]\n",
      "100%|██████████| 28.9k/28.9k [00:00<00:00, 156kB/s]\n",
      "100%|██████████| 1.65M/1.65M [00:01<00:00, 1.20MB/s]\n",
      "100%|██████████| 4.54k/4.54k [00:00<00:00, 4.34MB/s]\n"
     ]
    }
   ],
   "source": [
    "batch_size = 128\n",
    "tfms = transforms.Compose([transforms.ToTensor(),\n",
    "                           transforms.Normalize((0.1307,), (0.3081,))])\n",
    "train_data = datasets.MNIST(root='./data',\n",
    "    train=True, download=True, transform=tfms)\n",
    "test_data = datasets.MNIST(\n",
    "    root='./data', train=False, download=True, transform=tfms)\n",
    "\n",
    "train_loader = DataLoader(\n",
    "    dataset=train_data,\n",
    "    batch_size=batch_size,\n",
    "    shuffle=True,\n",
    "    drop_last=True\n",
    ")\n",
    "test_loader = DataLoader(\n",
    "    dataset=test_data,\n",
    "    batch_size=batch_size,\n",
    "    shuffle=True,\n",
    "    drop_last=True\n",
    ")"
   ]
  },
  {
   "cell_type": "code",
   "execution_count": null,
   "id": "05ceb4f1",
   "metadata": {},
   "outputs": [],
   "source": []
  },
  {
   "cell_type": "code",
   "execution_count": 19,
   "id": "2cfd0be4",
   "metadata": {},
   "outputs": [],
   "source": [
    "def get_act_fn(name: str) -> Callable:\n",
    "    _ACT_FNS = [\n",
    "        \"linear\", \"tanh\", \"hard_tanh\", \"relu\", \"leaky_relu\", \"gelu\", \"selu\", \"silu\"\n",
    "    ]\n",
    "    if name == \"linear\":\n",
    "        return nn.Identity()\n",
    "    elif name == \"tanh\":\n",
    "        return jnp.tanh\n",
    "    elif name == \"hard_tanh\":\n",
    "        return jax.nn.hard_tanh\n",
    "    elif name == \"relu\":\n",
    "        return jax.nn.relu\n",
    "    elif name == \"leaky_relu\":\n",
    "        return jax.nn.leaky_relu\n",
    "    elif name == \"gelu\":\n",
    "        return jax.nn.gelu\n",
    "    elif name == \"selu\":\n",
    "        return jax.nn.selu\n",
    "    elif name == \"silu\":\n",
    "        return jax.nn.silu\n",
    "    else:\n",
    "        raise ValueError(f\"\"\"\n",
    "                Invalid activation function ID. Options are {_ACT_FNS}.\n",
    "        \"\"\")\n",
    "    \n",
    "\n",
    "def simple_make_mlp(key: PRNGKeyArray, \n",
    "        input_dim: int, \n",
    "        width: int,\n",
    "        depth: int, \n",
    "        output_dim: int, \n",
    "        act_fn: str, \n",
    "        use_bias: bool = False,):\n",
    "    subkeys = jax.random.split(key, depth + 1)\n",
    "    layers = []\n",
    "    for i in range(depth):\n",
    "        act_fn_l = nn.Identity() if i == 0 else get_act_fn(act_fn)\n",
    "        in_dim = input_dim if i == 0 else width\n",
    "        out_dim = output_dim if i == depth - 1 else width\n",
    "\n",
    "        linear = nn.Linear(in_dim, out_dim, use_bias=use_bias, key=subkeys[i])\n",
    "        layers.append(eqx.nn.Sequential([nn.Lambda(act_fn_l), linear]))\n",
    "\n",
    "    return layers"
   ]
  },
  {
   "cell_type": "code",
   "execution_count": 20,
   "id": "0c0b26eb",
   "metadata": {},
   "outputs": [
    {
     "name": "stdout",
     "output_type": "stream",
     "text": [
      "(1, 512)\n",
      "(1, 512)\n",
      "(1, 10)\n"
     ]
    }
   ],
   "source": [
    "# debug\n",
    "key = jax.random.PRNGKey(0)\n",
    "toy_input = jax.random.normal(key, (1, 28*28))\n",
    "mlp_layers = simple_make_mlp(key, 28*28, 512, 3, 10, \"relu\")\n",
    "for layer in mlp_layers:\n",
    "    vlayer = eqx.filter_vmap(layer, in_axes=0, out_axes=0)\n",
    "    # vlayer = jax.vmap(layer, in_axes=0, out_axes=0)\n",
    "    toy_input = vlayer(toy_input)\n",
    "    print(toy_input.shape)"
   ]
  },
  {
   "cell_type": "code",
   "execution_count": 26,
   "id": "3d0b6af4",
   "metadata": {},
   "outputs": [],
   "source": [
    "@eqx.filter_jit\n",
    "def one_step_forward(model: PyTree, x: ArrayLike) -> ArrayLike:\n",
    "    for layer in model:\n",
    "        vlayer = eqx.filter_vmap(layer, in_axes=0, out_axes=0)\n",
    "        x = vlayer(x)\n",
    "    return x"
   ]
  },
  {
   "cell_type": "code",
   "execution_count": 27,
   "id": "150c0bc7",
   "metadata": {},
   "outputs": [
    {
     "name": "stdout",
     "output_type": "stream",
     "text": [
      "Epoch 1/10, Loss: 0.1039, Accuracy: 0.9667\n",
      "Epoch 2/10, Loss: 0.0793, Accuracy: 0.9745\n",
      "Epoch 2/10, Loss: 0.0793, Accuracy: 0.9745\n",
      "Epoch 3/10, Loss: 0.0893, Accuracy: 0.9738\n",
      "Epoch 3/10, Loss: 0.0893, Accuracy: 0.9738\n",
      "Epoch 4/10, Loss: 0.0799, Accuracy: 0.9756\n",
      "Epoch 4/10, Loss: 0.0799, Accuracy: 0.9756\n",
      "Epoch 5/10, Loss: 0.0871, Accuracy: 0.9763\n",
      "Epoch 5/10, Loss: 0.0871, Accuracy: 0.9763\n",
      "Epoch 6/10, Loss: 0.0839, Accuracy: 0.9784\n",
      "Epoch 6/10, Loss: 0.0839, Accuracy: 0.9784\n",
      "Epoch 7/10, Loss: 0.0833, Accuracy: 0.9813\n",
      "Epoch 7/10, Loss: 0.0833, Accuracy: 0.9813\n",
      "Epoch 8/10, Loss: 0.0948, Accuracy: 0.9783\n",
      "Epoch 8/10, Loss: 0.0948, Accuracy: 0.9783\n",
      "Epoch 9/10, Loss: 0.0890, Accuracy: 0.9778\n",
      "Epoch 9/10, Loss: 0.0890, Accuracy: 0.9778\n",
      "Epoch 10/10, Loss: 0.0951, Accuracy: 0.9802\n",
      "Training complete!\n",
      "Epoch 10/10, Loss: 0.0951, Accuracy: 0.9802\n",
      "Training complete!\n"
     ]
    }
   ],
   "source": [
    "# Initialize model and optimizer state\n",
    "key = jax.random.PRNGKey(42)\n",
    "EPOCHS = 10\n",
    "LR = 1e-3\n",
    "optimizer = optax.adam(LR)\n",
    "\n",
    "model = simple_make_mlp(key, 28*28, 512, 3, 10, \"relu\")\n",
    "opt_state = optimizer.init(eqx.filter(model, eqx.is_array))\n",
    "\n",
    "# Define loss function\n",
    "def compute_loss(model, x, y):\n",
    "    logits = one_step_forward(model, x)\n",
    "    return optax.softmax_cross_entropy_with_integer_labels(logits, y).mean()\n",
    "\n",
    "# Define update step\n",
    "@eqx.filter_jit\n",
    "def train_step(model, opt_state, x, y):\n",
    "    loss, grads = eqx.filter_value_and_grad(compute_loss)(model, x, y)\n",
    "    updates, opt_state = optimizer.update(grads, opt_state, eqx.filter(model, eqx.is_array))\n",
    "    model = eqx.apply_updates(model, updates)\n",
    "    return {'model': model, \n",
    "            'opt_state': opt_state, \n",
    "            'loss': loss,\n",
    "            'grads': grads\n",
    "        }\n",
    "\n",
    "\n",
    "def validate(model, data_loader):\n",
    "    total_loss = 0.0\n",
    "    num_batches = 0\n",
    "    preds = []\n",
    "    ys = []\n",
    "    for images, labels in data_loader:\n",
    "        # Convert torch tensors to jax arrays\n",
    "        x = jnp.array(images.numpy().reshape(batch_size, -1))\n",
    "        y = jnp.array(labels.numpy())\n",
    "        preds.append(one_step_forward(model, x).argmax(axis=-1))\n",
    "        ys.append(y)\n",
    "        loss = compute_loss(model, x, y)\n",
    "        total_loss += loss\n",
    "        num_batches += 1\n",
    "    \n",
    "    # compute accuracy\n",
    "    acc = jnp.mean(jnp.concatenate(preds) == jnp.concatenate(ys))\n",
    "    avg_loss = total_loss / num_batches\n",
    "    return avg_loss, acc\n",
    "# Training loop\n",
    "\n",
    "for epoch in range(EPOCHS):\n",
    "    total_loss = 0.0\n",
    "    num_batches = 0\n",
    "    \n",
    "    for images, labels in train_loader:\n",
    "        # Convert torch tensors to jax arrays\n",
    "        x = jnp.array(images.numpy().reshape(batch_size, -1))\n",
    "        y = jnp.array(labels.numpy())\n",
    "        \n",
    "        # Training step\n",
    "        result = train_step(model, opt_state, x, y)\n",
    "        total_loss += result['loss']\n",
    "        model = result['model']\n",
    "        opt_state = result['opt_state']\n",
    "        num_batches += 1\n",
    "    \n",
    "    avg_loss, acc = validate(model, test_loader)\n",
    "    print(f\"Epoch {epoch + 1}/{EPOCHS}, Loss: {avg_loss:.4f}, Accuracy: {acc:.4f}\")\n",
    "\n",
    "print(\"Training complete!\")\n"
   ]
  },
  {
   "cell_type": "code",
   "execution_count": 25,
   "id": "f027d7ab",
   "metadata": {},
   "outputs": [
    {
     "data": {
      "text/plain": [
       "[Sequential(\n",
       "   layers=(\n",
       "     Lambda(fn=Identity()),\n",
       "     Linear(\n",
       "       weight=f32[512,784],\n",
       "       bias=None,\n",
       "       in_features=784,\n",
       "       out_features=512,\n",
       "       use_bias=False\n",
       "     )\n",
       "   )\n",
       " ),\n",
       " Sequential(\n",
       "   layers=(\n",
       "     Lambda(fn=<PjitFunction of <function relu at 0x77d364e62ca0>>),\n",
       "     Linear(\n",
       "       weight=f32[512,512],\n",
       "       bias=None,\n",
       "       in_features=512,\n",
       "       out_features=512,\n",
       "       use_bias=False\n",
       "     )\n",
       "   )\n",
       " ),\n",
       " Sequential(\n",
       "   layers=(\n",
       "     Lambda(fn=<PjitFunction of <function relu at 0x77d364e62ca0>>),\n",
       "     Linear(\n",
       "       weight=f32[10,512],\n",
       "       bias=None,\n",
       "       in_features=512,\n",
       "       out_features=10,\n",
       "       use_bias=False\n",
       "     )\n",
       "   )\n",
       " )]"
      ]
     },
     "execution_count": 25,
     "metadata": {},
     "output_type": "execute_result"
    }
   ],
   "source": [
    "model"
   ]
  },
  {
   "cell_type": "code",
   "execution_count": 68,
   "id": "ab9b7530",
   "metadata": {},
   "outputs": [],
   "source": [
    "def apply_and_values(fs: list[Callable], x):\n",
    "    f, *fs = fs\n",
    "    # y = one_step_forward(f, x)\n",
    "    y = f(x)\n",
    "    return [y] + (apply_and_values(fs, y) if len(fs) > 0 else [])\n"
   ]
  },
  {
   "cell_type": "code",
   "execution_count": 69,
   "id": "37b8d14f",
   "metadata": {},
   "outputs": [],
   "source": [
    "from functools import partial"
   ]
  },
  {
   "cell_type": "code",
   "execution_count": null,
   "id": "ea2491f1",
   "metadata": {},
   "outputs": [],
   "source": [
    "x, y = next(iter(test_loader))\n",
    "x = jnp.array(images.numpy().reshape(batch_size, -1))\n",
    "y = jnp.array(labels.numpy())\n",
    "rst = apply_and_values(\n",
    "    list(\n",
    "        map(\n",
    "            lambda l: partial(one_step_forward, l), \n",
    "            model\n",
    "            )\n",
    "            ), \n",
    "    x)"
   ]
  },
  {
   "cell_type": "code",
   "execution_count": 71,
   "id": "1c88edcf",
   "metadata": {},
   "outputs": [
    {
     "data": {
      "text/plain": [
       "(3, 3)"
      ]
     },
     "execution_count": 71,
     "metadata": {},
     "output_type": "execute_result"
    }
   ],
   "source": [
    "len(rst), len(model)"
   ]
  },
  {
   "cell_type": "code",
   "execution_count": 72,
   "id": "c6717527",
   "metadata": {},
   "outputs": [],
   "source": [
    "a, *b = [1]"
   ]
  },
  {
   "cell_type": "code",
   "execution_count": 60,
   "id": "a0700400",
   "metadata": {},
   "outputs": [
    {
     "data": {
      "text/plain": [
       "[]"
      ]
     },
     "execution_count": 60,
     "metadata": {},
     "output_type": "execute_result"
    }
   ],
   "source": [
    "b"
   ]
  },
  {
   "cell_type": "code",
   "execution_count": null,
   "id": "df1be4bf",
   "metadata": {},
   "outputs": [],
   "source": []
  }
 ],
 "metadata": {
  "kernelspec": {
   "display_name": "jpc",
   "language": "python",
   "name": "python3"
  },
  "language_info": {
   "codemirror_mode": {
    "name": "ipython",
    "version": 3
   },
   "file_extension": ".py",
   "mimetype": "text/x-python",
   "name": "python",
   "nbconvert_exporter": "python",
   "pygments_lexer": "ipython3",
   "version": "3.11.14"
  }
 },
 "nbformat": 4,
 "nbformat_minor": 5
}
